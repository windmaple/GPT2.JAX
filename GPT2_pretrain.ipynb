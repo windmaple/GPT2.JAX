{
  "nbformat": 4,
  "nbformat_minor": 0,
  "metadata": {
    "colab": {
      "provenance": [],
      "machine_shape": "hm",
      "gpuType": "V28"
    },
    "kernelspec": {
      "name": "python3",
      "display_name": "Python 3"
    },
    "language_info": {
      "name": "python"
    },
    "accelerator": "TPU"
  },
  "cells": [
    {
      "cell_type": "markdown",
      "source": [
        "# Pretrain the GPT2 model\n",
        "\n",
        "This notebook seeks to replicate Andrey Karpathy's highly popular [nanoGPT](https://github.com/karpathy/nanoGPT/tree/master) project and trains a GPT2 model from scratch using JAX+TPU. Model size is 124M and we train on the [OpenWebText dataset](https://huggingface.co/datasets/Skylion007/openwebtext).\n",
        "\n",
        "You can run this on Colab, Kaggle or GCP TPUs. As a reference, on Kaggle TPU v3 it takes ~7 hours to finish; Kaggle offers 9 hours of TPUs without interruption, completely free of charge, so you can pretrain a GPT2 model for free.\n"
      ],
      "metadata": {
        "id": "rvP1eNN_pExM"
      }
    },
    {
      "cell_type": "markdown",
      "source": [
        "## Determine platform"
      ],
      "metadata": {
        "id": "LD3bo9FxhrTE"
      }
    },
    {
      "cell_type": "code",
      "source": [
        "import os\n",
        "if os.path.exists('/content/'):\n",
        "  platform = \"Colab\"\n",
        "elif os.path.exists('/kaggle/'):\n",
        "  platform = \"Kaggle\"\n",
        "else:\n",
        "  # Assume using Cloud TPU otherwise\n",
        "  platform = \"GCP\""
      ],
      "metadata": {
        "id": "7XcEXnSbhhKV"
      },
      "execution_count": null,
      "outputs": []
    },
    {
      "cell_type": "markdown",
      "source": [
        "## Setup\n",
        "\n",
        "Install JAX and Flax first."
      ],
      "metadata": {
        "id": "hTmz5Cbco7n_"
      }
    },
    {
      "cell_type": "code",
      "source": [
        "!pip install -q jax-ai-stack\n",
        "if platform == \"Colab\": # temp workaround on Colab (https://github.com/jax-ml/jax-ai-stack/issues/149)\n",
        "  !pip install -Uq \"jax[tpu]\" -f https://storage.googleapis.com/jax-releases/libtpu_releases.html\n",
        "!pip install -Uq tiktoken matplotlib kaggle wandb tpu-info\n"
      ],
      "metadata": {
        "id": "6zMsOIc7ouCO"
      },
      "execution_count": null,
      "outputs": []
    },
    {
      "cell_type": "markdown",
      "source": [
        "Confirm we have TPUs set up."
      ],
      "metadata": {
        "id": "6cWxBvz6bZDd"
      }
    },
    {
      "cell_type": "code",
      "source": [
        "import jax\n",
        "jax.devices()"
      ],
      "metadata": {
        "id": "uZUaKdi5bSEN"
      },
      "execution_count": null,
      "outputs": []
    },
    {
      "cell_type": "markdown",
      "source": [
        "Take care of the imports."
      ],
      "metadata": {
        "id": "sKE2uUafLobI"
      }
    },
    {
      "cell_type": "code",
      "source": [
        "import jax\n",
        "import jax.numpy as jnp\n",
        "import flax.nnx as nnx\n",
        "import optax, orbax\n",
        "from collections import Counter\n",
        "from dataclasses import dataclass\n",
        "from jax.experimental import mesh_utils\n",
        "from jax.sharding import Mesh, PartitionSpec as P, NamedSharding\n",
        "import numpy as np\n",
        "import tiktoken, time, wandb"
      ],
      "metadata": {
        "id": "MKYFNOhdLq98"
      },
      "execution_count": null,
      "outputs": []
    },
    {
      "cell_type": "markdown",
      "source": [
        "## Build the model\n",
        "\n",
        "Define the device mesh.\n"
      ],
      "metadata": {
        "id": "rPyt7MV6prz1"
      }
    },
    {
      "cell_type": "code",
      "source": [
        "### Alternative data and model parallel\n",
        "# mesh = Mesh(mesh_utils.create_device_mesh((4, 2)), ('batch', 'model'))\n",
        "\n",
        "mesh = Mesh(mesh_utils.create_device_mesh((8, 1)), ('batch', 'model'))"
      ],
      "metadata": {
        "id": "xuMlCK3Q8WJD"
      },
      "execution_count": null,
      "outputs": []
    },
    {
      "cell_type": "markdown",
      "source": [
        "We are going to use the GPT-2 tokenizer via OpenAI's [Tiktoken](https://github.com/openai/tiktoken) library."
      ],
      "metadata": {
        "id": "_ZKdhNo98NgG"
      }
    },
    {
      "cell_type": "code",
      "source": [
        "tokenizer = tiktoken.get_encoding(\"gpt2\")"
      ],
      "metadata": {
        "id": "iWbkk1V7-Isg"
      },
      "execution_count": null,
      "outputs": []
    },
    {
      "cell_type": "markdown",
      "source": [
        "Now define the model architecture. You can refer to [OpenAI's official implementation](https://github.com/openai/gpt-2) or [nanoGPT](https://github.com/karpathy/nanoGPT) for comparison. Main difference is with the sharding scheme."
      ],
      "metadata": {
        "id": "0XHQ0BQ9-KIj"
      }
    },
    {
      "cell_type": "code",
      "source": [
        "def causal_attention_mask(seq_len):\n",
        "    return jnp.tril(jnp.ones((seq_len, seq_len)))\n",
        "\n",
        "class TransformerBlock(nnx.Module):\n",
        "    def __init__(self, embed_dim: int, num_heads: int, ff_dim: int, dropout_rate: float, rngs: nnx.Rngs):\n",
        "        self.layer_norm1 = nnx.LayerNorm(epsilon=1e-6,\n",
        "                                         num_features=embed_dim,\n",
        "                                         scale_init=nnx.with_partitioning(nnx.initializers.ones_init(), NamedSharding(mesh, P('model'))),\n",
        "                                         bias_init=nnx.with_partitioning(nnx.initializers.zeros_init(), NamedSharding(mesh, P('model'))),\n",
        "                                         rngs=rngs)\n",
        "        self.mha = nnx.MultiHeadAttention(num_heads=num_heads,\n",
        "                                          in_features=embed_dim,\n",
        "                                          kernel_init=nnx.with_partitioning(nnx.initializers.xavier_uniform(), NamedSharding(mesh, P(None, 'model'))),\n",
        "                                          bias_init=nnx.with_partitioning(nnx.initializers.zeros_init(), NamedSharding(mesh, P('model'))),\n",
        "                                          rngs=rngs)\n",
        "\n",
        "        self.dropout1 = nnx.Dropout(rate=dropout_rate)  # Added dropout layer after MHA\n",
        "        self.layer_norm2 = nnx.LayerNorm(epsilon=1e-6,\n",
        "                                         num_features=embed_dim,\n",
        "                                         scale_init=nnx.with_partitioning(nnx.initializers.ones_init(), NamedSharding(mesh, P(None, 'model'))),\n",
        "                                         bias_init=nnx.with_partitioning(nnx.initializers.zeros_init(), NamedSharding(mesh, P(None, 'model'))),\n",
        "                                         rngs=rngs)\n",
        "        self.linear1 = nnx.Linear(in_features=embed_dim,\n",
        "                                  out_features=ff_dim,\n",
        "                                  kernel_init=nnx.with_partitioning(nnx.initializers.xavier_uniform(), NamedSharding(mesh, P(None, 'model'))),\n",
        "                                  bias_init=nnx.with_partitioning(nnx.initializers.zeros_init(), NamedSharding(mesh, P('model'))),\n",
        "                                  rngs=rngs)\n",
        "        self.linear2 = nnx.Linear(in_features=ff_dim,\n",
        "                                  out_features=embed_dim,\n",
        "                                  kernel_init=nnx.with_partitioning(nnx.initializers.xavier_uniform(), NamedSharding(mesh, P(None, 'model'))),\n",
        "                                  bias_init=nnx.with_partitioning(nnx.initializers.zeros_init(), NamedSharding(mesh, P('model'))),\n",
        "                                  rngs=rngs)\n",
        "        self.dropout2 = nnx.Dropout(rate=dropout_rate)\n",
        "\n",
        "    def __call__(self, inputs, training: bool = False):\n",
        "        input_shape = inputs.shape\n",
        "        bs, seq_len, emb_sz = input_shape\n",
        "\n",
        "        attention_output = self.mha(\n",
        "            inputs_q=self.layer_norm1(inputs),\n",
        "            mask=causal_attention_mask(seq_len),\n",
        "            decode=False,\n",
        "        )\n",
        "        x = inputs + self.dropout1(attention_output, deterministic=not training)\n",
        "\n",
        "        # MLP\n",
        "        mlp_output = self.linear1(self.layer_norm2(x))\n",
        "        mlp_output = nnx.gelu(mlp_output)\n",
        "        mlp_output = self.linear2(mlp_output)\n",
        "        mlp_output = self.dropout2(mlp_output, deterministic=not training)\n",
        "\n",
        "        return x + mlp_output\n",
        "\n",
        "\n",
        "class TokenAndPositionEmbedding(nnx.Module):\n",
        "\n",
        "    def __init__(self, seqlen: int, vocab_size: int, embed_dim: int, rngs: nnx.Rngs):\n",
        "        self.token_emb = nnx.Embed(num_embeddings=vocab_size, features=embed_dim, rngs=rngs)\n",
        "        self.pos_emb = nnx.Embed(num_embeddings=seqlen, features=embed_dim, rngs=rngs)\n",
        "\n",
        "    def __call__(self, x):\n",
        "        positions = jnp.arange(0, x.shape[1])[None, :]\n",
        "        position_embedding = self.pos_emb(positions)\n",
        "        token_embedding = self.token_emb(x)\n",
        "        return self.token_emb, token_embedding+position_embedding\n",
        "\n",
        "\n",
        "class GPT2(nnx.Module):\n",
        "    def __init__(self, seqlen: int, vocab_size: int, embed_dim: int, num_heads: int, rate: float, feed_forward_dim: int, num_transformer_blocks: int, rngs: nnx.Rngs):\n",
        "        self.embedding_layer = TokenAndPositionEmbedding(\n",
        "                    seqlen, vocab_size, embed_dim, rngs=rngs\n",
        "                )\n",
        "        self.dropout = nnx.Dropout(rate=rate)\n",
        "\n",
        "        self.transformer_blocks = [TransformerBlock(\n",
        "            embed_dim, num_heads, feed_forward_dim, dropout_rate, rngs=rngs\n",
        "        ) for _ in range(num_transformer_blocks)]\n",
        "\n",
        "        self.layer_norm = nnx.LayerNorm(epsilon=1e-6,\n",
        "                                    num_features=embed_dim,\n",
        "                                    scale_init=nnx.with_partitioning(nnx.initializers.ones_init(), NamedSharding(mesh, P('model'))),\n",
        "                                    bias_init=nnx.with_partitioning(nnx.initializers.zeros_init(), NamedSharding(mesh, P('model'))),\n",
        "                                    rngs=rngs)\n",
        "\n",
        "    def __call__(self, inputs, training: bool = False):\n",
        "        token_embedding, x = self.embedding_layer(inputs)\n",
        "        x = self.dropout(x, deterministic=not training)\n",
        "        for transformer_block in self.transformer_blocks:\n",
        "            x = transformer_block(x, training=training)\n",
        "        x = self.layer_norm(x)\n",
        "        # Weights tying\n",
        "        outputs = token_embedding.attend(x)\n",
        "        return outputs\n",
        "\n",
        "    @nnx.jit\n",
        "    def sample_from(self, logits):\n",
        "        logits, indices = jax.lax.top_k(logits, k=top_k)\n",
        "        logits = nnx.softmax(logits)\n",
        "        return jax.random.choice(jax.random.PRNGKey(0), indices, p=logits)\n",
        "\n",
        "    @nnx.jit\n",
        "    def generate_step(self, padded_tokens, sample_index):\n",
        "        logits = self(padded_tokens)\n",
        "        next_token = self.sample_from(logits[0][sample_index])\n",
        "        return next_token\n",
        "\n",
        "    def generate_text(self, max_tokens, start_tokens, streaming=False):\n",
        "        generated = []\n",
        "        for i in range(max_tokens):\n",
        "            sample_index = len(start_tokens) + len(generated) - 1\n",
        "            # TODO: use attention masking for better efficiency\n",
        "            padded_tokens = jnp.array((start_tokens + generated + [50256] * (seqlen - len(start_tokens) - len(generated))))[None, :]\n",
        "            next_token = int(self.generate_step(padded_tokens, sample_index))\n",
        "            if streaming == True:\n",
        "              print(tokenizer.decode([next_token]), end=\"\", flush=True)\n",
        "            generated.append(next_token)\n",
        "        if streaming == True:\n",
        "          print(flush=True)\n",
        "        return tokenizer.decode(start_tokens + generated)\n",
        "\n",
        "def create_model(rngs):\n",
        "    return GPT2(seqlen, vocab_size, embed_dim, num_heads, dropout_rate, feed_forward_dim, num_transformer_blocks, rngs=rngs)"
      ],
      "metadata": {
        "id": "z0p-IHurrB9i"
      },
      "execution_count": null,
      "outputs": []
    },
    {
      "cell_type": "markdown",
      "source": [
        "Set some hyperparameters."
      ],
      "metadata": {
        "id": "igX_eoGNMTGR"
      }
    },
    {
      "cell_type": "code",
      "source": [
        "vocab_size = tokenizer.n_vocab\n",
        "## GPT2 config\n",
        "num_transformer_blocks = 12\n",
        "seqlen = 1024\n",
        "embed_dim = 768\n",
        "num_heads = 12\n",
        "feed_forward_dim = 4 * embed_dim\n",
        "\n",
        "# # GPT2-medium config\n",
        "# num_transformer_blocks = 24\n",
        "# seqlen = 1024\n",
        "# embed_dim = 1024\n",
        "# num_heads = 16\n",
        "# feed_forward_dim = 4 * embed_dim\n",
        "dropout_rate = 0.1\n",
        "if platform == \"Colab\":\n",
        "    batch_size = 24 # TPU v2\n",
        "else:\n",
        "    batch_size = 72 # TPU v3  (32 if GPT2-medium)\n",
        "max_steps = 600000*12//batch_size\n",
        "init_learning_rate = 5e-4\n",
        "weight_decay = 1e-1\n",
        "top_k = 10"
      ],
      "metadata": {
        "id": "GRhiDsCrMZRp"
      },
      "execution_count": null,
      "outputs": []
    },
    {
      "cell_type": "markdown",
      "source": [
        "Use Weights and Biases to track training progress."
      ],
      "metadata": {
        "id": "eBfT1dp5hMUm"
      }
    },
    {
      "cell_type": "code",
      "source": [
        "if platform == \"Colab\":\n",
        "  from google.colab import userdata\n",
        "  os.environ['WANDB_API_KEY'] = userdata.get('WANDB_API_KEY')\n",
        "  os.environ['KAGGLE_USERNAME'] = userdata.get('KAGGLE_USERNAME')\n",
        "  os.environ['KAGGLE_KEY'] = userdata.get('KAGGLE_KEY')\n",
        "elif platform == \"Kaggle\":\n",
        "  from kaggle_secrets import UserSecretsClient\n",
        "  user_secrets = UserSecretsClient()\n",
        "  os.environ['WANDB_API_KEY'] = user_secrets.get_secret('WANDB_API_KEY')\n",
        "else:\n",
        "  print(\"Please set the WANDB_API_KEY env variable manually\") #input()\n",
        "\n",
        "wandb.login()\n",
        "\n",
        "import wandb\n",
        "\n",
        "wandb.init(\n",
        "    # set the wandb project where this run will be logged\n",
        "    project='GPT2-pretraining',\n",
        "\n",
        "    # track hyperparameters and run metadata\n",
        "    config={\n",
        "    'architecture': 'GPT2',\n",
        "    'dataset': 'OpenWebText',\n",
        "    'init_learning_rate': init_learning_rate,\n",
        "    'num_transformer_blocks': num_transformer_blocks,\n",
        "    'seqlen': seqlen,\n",
        "    'embed_dim': embed_dim,\n",
        "    'num_heads': num_heads,\n",
        "    'feed_forward_dim': feed_forward_dim,\n",
        "    'max_steps': max_steps,\n",
        "    'batch_size': batch_size,\n",
        "    'weight_decay': weight_decay\n",
        "    }\n",
        ")"
      ],
      "metadata": {
        "id": "IbhEtsganEWg"
      },
      "execution_count": null,
      "outputs": []
    },
    {
      "cell_type": "markdown",
      "source": [
        "## Prepare data\n",
        "\n",
        "Data loading and preprocessing with [Grain](https://github.com/google/grain)."
      ],
      "metadata": {
        "id": "mI1ci-HyMspJ"
      }
    },
    {
      "cell_type": "code",
      "source": [
        "if platform == \"Colab\":\n",
        "  if not os.path.exists('/content/drive'):\n",
        "    from google.colab import drive\n",
        "    drive.mount('/content/drive')\n",
        "  data_dir = \"/content/drive/MyDrive/LLM-pretraining/OpenWebText/\" # Assume dataset is already stored there\n",
        "elif platform == \"GCP\":\n",
        "  if not os.path.exists('OpenWebText-gpt2.zip'):\n",
        "    # Assume kaggle binary is in ~/.local/bin after pip install kaggle\n",
        "    !~/.local/bin/kaggle datasets download -d windmaple/OpenWebText-gpt2 && unzip OpenWebText-gpt2.zip\n",
        "  data_dir = \".\"\n",
        "elif platform == \"Kaggle\":  # On Kaggle one should manually add the datasets before running\n",
        "  data_dir = \"/kaggle/input/openwebtext-gpt2\"\n",
        "\n",
        "train_data = np.memmap(os.path.join(data_dir, \"train.bin\"), dtype=np.uint16, mode=\"r\")\n",
        "val_data = np.memmap(os.path.join(data_dir, \"val.bin\"), dtype=np.uint16, mode=\"r\")\n",
        "\n",
        "# From: https://github.com/karpathy/nanoGPT/blob/9755682b981a45507f6eb9b11eadef8cb83cebd5/train.py#L116\n",
        "def get_batch(train_or_eval = \"train\"):\n",
        "\n",
        "    data = train_data if train_or_eval == \"train\" else val_data\n",
        "\n",
        "    ix = np.random.randint(0, len(data) - seqlen, (batch_size,))\n",
        "    x = np.stack([(data[i:i+seqlen]).astype(np.int64) for i in ix])\n",
        "    y = np.stack([(data[i+1:i+1+seqlen]).astype(np.int64) for i in ix])\n",
        "\n",
        "    return x, y"
      ],
      "metadata": {
        "id": "rGUFsn1GMuzh"
      },
      "execution_count": null,
      "outputs": []
    },
    {
      "cell_type": "markdown",
      "source": [
        "## Train the model\n",
        "\n",
        "Define loss function and training step function."
      ],
      "metadata": {
        "id": "BKVSD8KSM1um"
      }
    },
    {
      "cell_type": "code",
      "source": [
        "@nnx.jit\n",
        "def loss_fn(model, batch):\n",
        "    logits = model(batch[0])\n",
        "    loss = optax.softmax_cross_entropy_with_integer_labels(logits=logits, labels=batch[1]).mean()\n",
        "    return loss, logits\n",
        "\n",
        "@nnx.jit\n",
        "def train_step(model: nnx.Module, optimizer: nnx.Optimizer, metrics: nnx.MultiMetric, batch):\n",
        "    grad_fn = nnx.value_and_grad(loss_fn, has_aux=True)\n",
        "    (loss, logits), grads = grad_fn(model, batch)\n",
        "    metrics.update(loss=loss, logits=logits, lables=batch[1])\n",
        "    optimizer.update(grads)"
      ],
      "metadata": {
        "id": "8rRuTmABNV4b"
      },
      "execution_count": null,
      "outputs": []
    },
    {
      "cell_type": "markdown",
      "source": [
        "Create the model and check the model parameter count."
      ],
      "metadata": {
        "id": "ZRRpiYBpwr2R"
      }
    },
    {
      "cell_type": "code",
      "source": [
        "model = create_model(rngs=nnx.Rngs(0))\n",
        "\n",
        "def count_params (params) :\n",
        "    p_tree = jax.tree.map(lambda a: a.size if isinstance(a, jnp.ndarray) else 0, params)\n",
        "    import operator\n",
        "    return jax.tree.reduce(operator.add, p_tree)\n",
        "\n",
        "print(f\"Number of model parameters: {count_params(nnx.state(model))}\")"
      ],
      "metadata": {
        "id": "D_L_PuTkwqtu"
      },
      "execution_count": null,
      "outputs": []
    },
    {
      "cell_type": "markdown",
      "source": [
        "Train the model."
      ],
      "metadata": {
        "id": "5um2vkeUNckm"
      }
    },
    {
      "cell_type": "code",
      "source": [
        "schedule = optax.cosine_decay_schedule(\n",
        "  init_value=init_learning_rate,\n",
        "  decay_steps=max_steps\n",
        ")\n",
        "optax_chain = optax.chain(\n",
        "  optax.adamw(learning_rate=schedule, weight_decay=weight_decay)\n",
        ")\n",
        "optimizer = nnx.Optimizer(model, optax_chain)\n",
        "\n",
        "train_metrics = nnx.metrics.Average('loss')\n",
        "val_metrics = nnx.metrics.Average('val_loss')\n",
        "\n",
        "rng = jax.random.PRNGKey(0)\n",
        "\n",
        "start_prompt = \"Once upon a time\"\n",
        "start_tokens = tokenizer.encode(start_prompt)[:seqlen]\n",
        "print(f\"Inital generated text:\\n{start_prompt}\", end=\"\")\n",
        "generated_text = model.generate_text(\n",
        "    seqlen//10, start_tokens\n",
        ")\n",
        "\n",
        "metrics_history = {\n",
        "  'train_loss': [],\n",
        "  'val_loss': []\n",
        "}\n",
        "\n",
        "step = 0\n",
        "start_time = time.time()\n",
        "while True:\n",
        "    input_batch, target_batch = get_batch(\"train\")\n",
        "    if len(input_batch) % len(jax.devices()) != 0: continue  # skip the remaining elements\n",
        "    train_step(model, optimizer, train_metrics, jax.device_put((input_batch, target_batch), NamedSharding(mesh, P('batch', None))))\n",
        "\n",
        "    if (step + 1) % 200 == 0:\n",
        "      train_loss = float(train_metrics.compute())\n",
        "      metrics_history['train_loss'].append(train_loss)\n",
        "\n",
        "      elapsed_time = time.time() - start_time\n",
        "      print(f\"Step {step + 1}, Training loss: {train_loss}, Elapsed Time: {elapsed_time:.2f} seconds\")\n",
        "\n",
        "      # eval step\n",
        "      input_val_batch, target_val_batch = get_batch('val')\n",
        "      loss, logits = loss_fn(model, jax.device_put((input_val_batch, target_val_batch), NamedSharding(mesh, P('batch', None))))\n",
        "      val_metrics.update(val_loss=loss, logits=logits)\n",
        "      val_loss = float(val_metrics.compute())\n",
        "      metrics_history['val_loss'].append(val_loss)\n",
        "      wandb.log(data={'val_loss': val_loss, 'train_loss': train_loss}, step=step)\n",
        "      print(f\"Step {step + 1}, Validation Loss: {val_loss}\")\n",
        "      train_metrics.reset()\n",
        "      val_metrics.reset()\n",
        "\n",
        "      start_time = time.time()\n",
        "    step += 1\n",
        "\n",
        "    if step > max_steps:\n",
        "      break\n",
        "\n",
        "# Final text generation\n",
        "print(f\"Final generated text:\\n{start_prompt}\", end=\"\")\n",
        "generated_text = model.generate_text(\n",
        "    seqlen//10, start_tokens\n",
        ")"
      ],
      "metadata": {
        "id": "Ysl6CsfENeJN"
      },
      "execution_count": null,
      "outputs": []
    },
    {
      "cell_type": "markdown",
      "source": [
        "Visualize the training loss."
      ],
      "metadata": {
        "id": "thaLs6TD0lt5"
      }
    },
    {
      "cell_type": "code",
      "source": [
        "import matplotlib.pyplot as plt\n",
        "plt.plot(metrics_history['train_loss'])\n",
        "plt.title('Training Loss')\n",
        "plt.xlabel('Step')\n",
        "plt.ylabel('Loss')\n",
        "plt.show()"
      ],
      "metadata": {
        "id": "B6Eg1Cz2y_iP"
      },
      "execution_count": null,
      "outputs": []
    },
    {
      "cell_type": "markdown",
      "source": [
        "As you can see, the model goes from generating completely random words at the beginning to generating sensible sentences at the end of the training.\n",
        "\n",
        "Final train loss is 3.09 and val loss is 3.04. In comparison, nanoGPT 124M GPT2 achieves final train loss 3.11 and val loss 3.12 ([link](https://wandb.ai/windmaple/GPT2-pretraining?nw=nwuserwindmaple)).\n",
        "\n",
        "![Screenshot 2025-02-11 at 14.14.16.png](data:image/png;base64,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)"
      ],
      "metadata": {
        "id": "WB-ExEt1Zl1C"
      }
    },
    {
      "cell_type": "markdown",
      "source": [
        "# Model saving"
      ],
      "metadata": {
        "id": "m13hUf7CcrSO"
      }
    },
    {
      "cell_type": "code",
      "source": [
        "import orbax.checkpoint as orbax\n",
        "import shutil\n",
        "\n",
        "if platform == \"Colab\":\n",
        "  checkpoint_path = \"/content/checkpoints\"\n",
        "elif platform == \"Kaggle\":\n",
        "  checkpoint_path = \"/kaggle/working/checkpoints\"\n",
        "else:\n",
        "  from pathlib import Path\n",
        "  home = Path.home()\n",
        "  checkpoint_path = os.path.join(str(home), \"checkpoints\")\n",
        "\n",
        "# make sure the folder is empty and usable\n",
        "shutil.rmtree(checkpoint_path, ignore_errors=True)\n",
        "\n",
        "checkpointer = orbax.PyTreeCheckpointer()\n",
        "train_state = nnx.state(model)\n",
        "checkpointer.save(checkpoint_path, train_state)"
      ],
      "metadata": {
        "id": "ofH_VkqMctZ5"
      },
      "execution_count": null,
      "outputs": []
    },
    {
      "cell_type": "markdown",
      "source": [
        "# Model restoration\n",
        "Restore the model checkpoint. A pretrained checkpoint is also available [here](https://www.kaggle.com/models/windmaple/gpt2/)."
      ],
      "metadata": {
        "id": "soPqiR1JNmjf"
      }
    },
    {
      "cell_type": "code",
      "source": [
        "model = nnx.eval_shape(lambda: create_model(rngs=nnx.Rngs(0)))\n",
        "state = nnx.state(model)\n",
        "checkpointer = orbax.PyTreeCheckpointer()\n",
        "state = checkpointer.restore(checkpoint_path, item=state)\n",
        "nnx.update(model, state)\n",
        "\n",
        "generated_text = model.generate_text(\n",
        "    seqlen//10, start_tokens\n",
        ")\n",
        "print(f\"Restored model generated text:\\n{generated_text}\")"
      ],
      "metadata": {
        "id": "EkoFGCgSZ1yz"
      },
      "execution_count": null,
      "outputs": []
    },
    {
      "cell_type": "markdown",
      "source": [
        "# Disconnect the Colab runtime"
      ],
      "metadata": {
        "id": "jCApVd7671c1"
      }
    },
    {
      "cell_type": "code",
      "source": [
        "if platform == \"Colab\":\n",
        "  from google.colab import runtime\n",
        "  runtime.unassign()"
      ],
      "metadata": {
        "id": "NsqYdbrDVKSq"
      },
      "execution_count": null,
      "outputs": []
    }
  ]
}